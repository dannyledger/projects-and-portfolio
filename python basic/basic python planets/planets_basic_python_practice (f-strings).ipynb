{
 "cells": [
  {
   "cell_type": "markdown",
   "id": "cf67479d",
   "metadata": {},
   "source": [
    "### My first(-ever) jupyter notebook\n",
    "\n",
    "#### Planets\n",
    "\n",
    "This is my first notebook, I'm not sure what I'm doing but I've been learning python so we'll see how it goes. I want to create some basic lists, think about loops, practice indexing and output via printing formatted strings."
   ]
  },
  {
   "cell_type": "code",
   "execution_count": null,
   "id": "364e1d39",
   "metadata": {},
   "outputs": [],
   "source": [
    "# two lists whose orders deliberately align, ready to be indexed\n",
    "solar_system = ['sun','mercury', 'venus', 'earth', 'mars', 'jupiter', 'saturn', 'uranus', 'neptune', 'pluto']\n",
    "order = ['star','first', 'second', 'third', 'fourth', 'fifth', 'sixth', 'seventh', 'eighth', 'ninth']"
   ]
  },
  {
   "cell_type": "code",
   "execution_count": null,
   "id": "c37d0488",
   "metadata": {},
   "outputs": [
    {
     "name": "stdout",
     "output_type": "stream",
     "text": [
      "star sun\n",
      "first mercury\n",
      "second venus\n",
      "third earth\n",
      "fourth mars\n",
      "fifth jupiter\n",
      "sixth saturn\n",
      "seventh uranus\n",
      "eighth neptune\n",
      "ninth pluto\n"
     ]
    }
   ],
   "source": [
    "# create a list of the planets\n",
    "for o, p in zip(solar_system, order):\n",
    "    print(p, o)"
   ]
  },
  {
   "cell_type": "code",
   "execution_count": null,
   "id": "b7976f03",
   "metadata": {},
   "outputs": [
    {
     "name": "stdout",
     "output_type": "stream",
     "text": [
      "The second planet of the solar system is Venus\n"
     ]
    }
   ],
   "source": [
    "# testing my indexing via a formatted string\n",
    "print(f\"The {order[2]} planet of the solar system is {solar_system[2].capitalize()}\")"
   ]
  },
  {
   "cell_type": "code",
   "execution_count": null,
   "id": "5c5405f6",
   "metadata": {},
   "outputs": [
    {
     "name": "stdout",
     "output_type": "stream",
     "text": [
      "The Sun is the star of the solar system.\n",
      "\n",
      "Orbited by planets:\n",
      "\n",
      "Mercury is the first planet of the solar system.\n",
      "Venus is the second planet of the solar system.\n",
      "Earth is the third planet of the solar system.\n",
      "Mars is the fourth planet of the solar system.\n",
      "Jupiter is the fifth planet of the solar system.\n",
      "Saturn is the sixth planet of the solar system.\n",
      "Uranus is the seventh planet of the solar system.\n",
      "Neptune is the eighth planet of the solar system.\n",
      "Pluto is the ninth planet of the solar system.\n"
     ]
    }
   ],
   "source": [
    "# creating a function that includes a loop, indexing, formatted strings\n",
    "\n",
    "def planet_order():\n",
    "    for planet in solar_system[1:]:\n",
    "        print(f\"{planet.capitalize()} is the {order[solar_system.index(planet)]} planet of the solar system.\")   \n",
    "\n",
    "print(\"The Sun is the star of the solar system.\\n\\nOrbited by planets:\\n\")\n",
    "planet_order()\n",
    " "
   ]
  }
 ],
 "metadata": {
  "kernelspec": {
   "display_name": "Python 3",
   "language": "python",
   "name": "python3"
  },
  "language_info": {
   "codemirror_mode": {
    "name": "ipython",
    "version": 3
   },
   "file_extension": ".py",
   "mimetype": "text/x-python",
   "name": "python",
   "nbconvert_exporter": "python",
   "pygments_lexer": "ipython3",
   "version": "3.13.3"
  }
 },
 "nbformat": 4,
 "nbformat_minor": 5
}
