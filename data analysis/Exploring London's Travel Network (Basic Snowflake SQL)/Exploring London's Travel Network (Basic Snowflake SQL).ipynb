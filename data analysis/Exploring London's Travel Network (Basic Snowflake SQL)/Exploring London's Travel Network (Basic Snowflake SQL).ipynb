{
 "cells": [
  {
   "cell_type": "markdown",
   "id": "b173aef7-9585-439c-bd84-ec6f359ee090",
   "metadata": {},
   "source": [
    "The Mayor of London's office make their data available to the public [here](https://data.london.gov.uk/dataset). In this project, you will work with a slightly modified version of a dataset containing information about public transport journey volume by transport type. \n",
    "\n",
    "The data has been loaded into a **Snowflake** database called `TFL` with a single table called `JOURNEYS`, including the following data:\n",
    "\n",
    "## TFL.JOURNEYS\n",
    "\n",
    "| Column | Definition | Data type |\n",
    "|--------|------------|-----------|\n",
    "| `MONTH`| Month in number format, e.g., `1` equals January | `INTEGER` |\n",
    "| `YEAR` | Year | `INTEGER` |\n",
    "| `DAYS` | Number of days in the given month | `INTEGER` |\n",
    "| `REPORT_DATE` | Date that the data was reported | `DATE` |\n",
    "| `JOURNEY_TYPE` | Method of transport used | `VARCHAR` |\n",
    "| `JOURNEYS_MILLIONS` | Millions of journeys, measured in decimals | `FLOAT` |\n",
    "\n",
    "Note that *in Snowflake all databases, tables, and columns are **upper case*** by default.\n",
    "\n",
    "You will execute SQL queries to answer three questions..."
   ]
  },
  {
   "cell_type": "markdown",
   "id": "3241f9d2-c34d-48f4-9005-24a86275fd35",
   "metadata": {},
   "source": [
    "---\n",
    "1. What are the most popular transport types, measured by the total number of journeys? The output should contain two columns, 1) `JOURNEY_TYPE` and 2) `TOTAL_JOURNEYS_MILLIONS`, and be sorted by the second column in descending order. Save the query as `most_popular_transport_types`"
   ]
  },
  {
   "cell_type": "code",
   "execution_count": null,
   "id": "8d9fea80-b22f-4b79-aa93-1fb581d04b12",
   "metadata": {
    "customType": "sql",
    "dataFrameVariableName": "most_popular_transport_types",
    "executionCancelledAt": null,
    "executionTime": 2059,
    "lastExecutedAt": 1754000459308,
    "lastExecutedByKernel": "8120463d-3819-4586-9a23-ef4b4c89b3c9",
    "lastScheduledRunId": null,
    "lastSuccessfullyExecutedCode": "WITH most_popular_transport_types AS (\n    SELECT \n        JOURNEY_TYPE,\n        SUM(JOURNEYS_MILLIONS) AS TOTAL_JOURNEYS_MILLIONS\n    FROM TFL.JOURNEYS\n    GROUP BY JOURNEY_TYPE\n    ORDER BY TOTAL_JOURNEYS_MILLIONS DESC\n)\nSELECT *\nFROM most_popular_transport_types;",
    "outputsMetadata": {
     "0": {
      "height": 550,
      "tableState": {
       "customFilter": {
        "const": {
         "type": "boolean",
         "valid": true,
         "value": true
        },
        "id": "7face1c9-ded5-42e9-87cd-e28809426e8d",
        "nodeType": "const"
       }
      },
      "type": "dataFrame"
     }
    },
    "sqlCellMode": "dataFrame",
    "sqlSource": {
     "integrationId": "e0c96696-ae0a-46fb-b6f9-1a43eb428ecb",
     "type": "integration"
    },
    "vscode": {
     "languageId": "sql"
    }
   },
   "outputs": [
    {
     "data": {
      "application/com.datacamp.data-table.v2+json": {
       "table": {
        "data": {
         "JOURNEY_TYPE": [
          "Bus",
          "Underground & DLR",
          "Overground",
          "TfL Rail",
          "Tram",
          "Emirates Airline"
         ],
         "TOTAL_JOURNEYS_MILLIONS": [
          24905.19394699,
          15020.466543504,
          1666.8456664279,
          411.3134209833,
          314.6898754821,
          14.5837175749
         ],
         "index": [
          0,
          1,
          2,
          3,
          4,
          5
         ]
        },
        "schema": {
         "fields": [
          {
           "name": "index",
           "type": "integer"
          },
          {
           "name": "JOURNEY_TYPE",
           "type": "string"
          },
          {
           "name": "TOTAL_JOURNEYS_MILLIONS",
           "type": "number"
          }
         ],
         "pandas_version": "1.4.0",
         "primaryKey": [
          "index"
         ]
        }
       },
       "total_rows": 6,
       "truncation_type": null
      },
      "text/html": [
       "<div>\n",
       "<style scoped>\n",
       "    .dataframe tbody tr th:only-of-type {\n",
       "        vertical-align: middle;\n",
       "    }\n",
       "\n",
       "    .dataframe tbody tr th {\n",
       "        vertical-align: top;\n",
       "    }\n",
       "\n",
       "    .dataframe thead th {\n",
       "        text-align: right;\n",
       "    }\n",
       "</style>\n",
       "<table border=\"1\" class=\"dataframe\">\n",
       "  <thead>\n",
       "    <tr style=\"text-align: right;\">\n",
       "      <th></th>\n",
       "      <th>JOURNEY_TYPE</th>\n",
       "      <th>TOTAL_JOURNEYS_MILLIONS</th>\n",
       "    </tr>\n",
       "  </thead>\n",
       "  <tbody>\n",
       "    <tr>\n",
       "      <th>0</th>\n",
       "      <td>Bus</td>\n",
       "      <td>24905.193947</td>\n",
       "    </tr>\n",
       "    <tr>\n",
       "      <th>1</th>\n",
       "      <td>Underground &amp; DLR</td>\n",
       "      <td>15020.466544</td>\n",
       "    </tr>\n",
       "    <tr>\n",
       "      <th>2</th>\n",
       "      <td>Overground</td>\n",
       "      <td>1666.845666</td>\n",
       "    </tr>\n",
       "    <tr>\n",
       "      <th>3</th>\n",
       "      <td>TfL Rail</td>\n",
       "      <td>411.313421</td>\n",
       "    </tr>\n",
       "    <tr>\n",
       "      <th>4</th>\n",
       "      <td>Tram</td>\n",
       "      <td>314.689875</td>\n",
       "    </tr>\n",
       "    <tr>\n",
       "      <th>5</th>\n",
       "      <td>Emirates Airline</td>\n",
       "      <td>14.583718</td>\n",
       "    </tr>\n",
       "  </tbody>\n",
       "</table>\n",
       "</div>"
      ],
      "text/plain": [
       "        JOURNEY_TYPE  TOTAL_JOURNEYS_MILLIONS\n",
       "0                Bus             24905.193947\n",
       "1  Underground & DLR             15020.466544\n",
       "2         Overground              1666.845666\n",
       "3           TfL Rail               411.313421\n",
       "4               Tram               314.689875\n",
       "5   Emirates Airline                14.583718"
      ]
     },
     "execution_count": 19,
     "metadata": {
      "application/com.datacamp.data-table.v2+json": {
       "status": "success"
      }
     },
     "output_type": "execute_result"
    }
   ],
   "source": [
    "WITH most_popular_transport_types AS (\n",
    "    SELECT \n",
    "        JOURNEY_TYPE,\n",
    "        SUM(JOURNEYS_MILLIONS) AS TOTAL_JOURNEYS_MILLIONS\n",
    "    FROM TFL.JOURNEYS\n",
    "    GROUP BY JOURNEY_TYPE\n",
    "    ORDER BY TOTAL_JOURNEYS_MILLIONS DESC\n",
    ")\n",
    "SELECT *\n",
    "FROM most_popular_transport_types;"
   ]
  },
  {
   "cell_type": "markdown",
   "id": "fe46a8bb-22d6-42ed-bba4-b50b553eb86a",
   "metadata": {},
   "source": [
    "---\n",
    "2. Which five months and years were the most popular for the Emirates Airline? Return an output containing `MONTH`, `YEAR`, and `JOURNEYS_MILLIONS`, with the latter rounded to two decimal places and aliased as `ROUNDED_JOURNEYS_MILLIONS`. Exclude null values and save the result as `emirates_airline_popularity`"
   ]
  },
  {
   "cell_type": "code",
   "execution_count": null,
   "id": "7e021cbb-35c0-4b65-8b63-db04bae2861c",
   "metadata": {
    "customType": "sql",
    "dataFrameVariableName": "emirates_airline_popularity",
    "executionCancelledAt": null,
    "executionTime": 2049,
    "lastExecutedAt": 1754000461357,
    "lastExecutedByKernel": "8120463d-3819-4586-9a23-ef4b4c89b3c9",
    "lastScheduledRunId": null,
    "lastSuccessfullyExecutedCode": "WITH emirates_airline_popularity AS (\n\tSELECT \n\t\tMONTH,\n    \tYEAR,\n    \tROUND(JOURNEYS_MILLIONS, 2) AS ROUNDED_JOURNEYS_MILLIONS\n\tFROM TFL.JOURNEYS\n\tWHERE JOURNEY_TYPE = 'Emirates Airline'\n  \t\tAND JOURNEYS_MILLIONS IS NOT NULL\n\tORDER BY ROUNDED_JOURNEYS_MILLIONS DESC\n\tLIMIT 5\n)\nSELECT  *\nFROM emirates_airline_popularity;",
    "outputsMetadata": {
     "0": {
      "height": 550,
      "tableState": {
       "customFilter": {
        "const": {
         "type": "boolean",
         "valid": true,
         "value": true
        },
        "id": "89789534-f5e2-411f-bb47-2493566070a4",
        "nodeType": "const"
       }
      },
      "type": "dataFrame"
     }
    },
    "sqlCellMode": "dataFrame",
    "sqlSource": {
     "integrationId": "e0c96696-ae0a-46fb-b6f9-1a43eb428ecb",
     "type": "integration"
    },
    "vscode": {
     "languageId": "sql"
    }
   },
   "outputs": [
    {
     "data": {
      "application/com.datacamp.data-table.v2+json": {
       "table": {
        "data": {
         "MONTH": [
          5,
          6,
          4,
          5,
          5
         ],
         "ROUNDED_JOURNEYS_MILLIONS": [
          0.53,
          0.38,
          0.24,
          0.19,
          0.19
         ],
         "YEAR": [
          2012,
          2012,
          2012,
          2013,
          2015
         ],
         "index": [
          0,
          1,
          2,
          3,
          4
         ]
        },
        "schema": {
         "fields": [
          {
           "name": "index",
           "type": "integer"
          },
          {
           "name": "MONTH",
           "type": "integer"
          },
          {
           "name": "YEAR",
           "type": "integer"
          },
          {
           "name": "ROUNDED_JOURNEYS_MILLIONS",
           "type": "number"
          }
         ],
         "pandas_version": "1.4.0",
         "primaryKey": [
          "index"
         ]
        }
       },
       "total_rows": 5,
       "truncation_type": null
      },
      "text/html": [
       "<div>\n",
       "<style scoped>\n",
       "    .dataframe tbody tr th:only-of-type {\n",
       "        vertical-align: middle;\n",
       "    }\n",
       "\n",
       "    .dataframe tbody tr th {\n",
       "        vertical-align: top;\n",
       "    }\n",
       "\n",
       "    .dataframe thead th {\n",
       "        text-align: right;\n",
       "    }\n",
       "</style>\n",
       "<table border=\"1\" class=\"dataframe\">\n",
       "  <thead>\n",
       "    <tr style=\"text-align: right;\">\n",
       "      <th></th>\n",
       "      <th>MONTH</th>\n",
       "      <th>YEAR</th>\n",
       "      <th>ROUNDED_JOURNEYS_MILLIONS</th>\n",
       "    </tr>\n",
       "  </thead>\n",
       "  <tbody>\n",
       "    <tr>\n",
       "      <th>0</th>\n",
       "      <td>5</td>\n",
       "      <td>2012</td>\n",
       "      <td>0.53</td>\n",
       "    </tr>\n",
       "    <tr>\n",
       "      <th>1</th>\n",
       "      <td>6</td>\n",
       "      <td>2012</td>\n",
       "      <td>0.38</td>\n",
       "    </tr>\n",
       "    <tr>\n",
       "      <th>2</th>\n",
       "      <td>4</td>\n",
       "      <td>2012</td>\n",
       "      <td>0.24</td>\n",
       "    </tr>\n",
       "    <tr>\n",
       "      <th>3</th>\n",
       "      <td>5</td>\n",
       "      <td>2013</td>\n",
       "      <td>0.19</td>\n",
       "    </tr>\n",
       "    <tr>\n",
       "      <th>4</th>\n",
       "      <td>5</td>\n",
       "      <td>2015</td>\n",
       "      <td>0.19</td>\n",
       "    </tr>\n",
       "  </tbody>\n",
       "</table>\n",
       "</div>"
      ],
      "text/plain": [
       "   MONTH  YEAR  ROUNDED_JOURNEYS_MILLIONS\n",
       "0      5  2012                       0.53\n",
       "1      6  2012                       0.38\n",
       "2      4  2012                       0.24\n",
       "3      5  2013                       0.19\n",
       "4      5  2015                       0.19"
      ]
     },
     "execution_count": 20,
     "metadata": {
      "application/com.datacamp.data-table.v2+json": {
       "status": "success"
      }
     },
     "output_type": "execute_result"
    }
   ],
   "source": [
    "WITH emirates_airline_popularity AS (\n",
    "\tSELECT \n",
    "\t\tMONTH,\n",
    "    \tYEAR,\n",
    "    \tROUND(JOURNEYS_MILLIONS, 2) AS ROUNDED_JOURNEYS_MILLIONS\n",
    "\tFROM TFL.JOURNEYS\n",
    "\tWHERE JOURNEY_TYPE = 'Emirates Airline'\n",
    "  \t\tAND JOURNEYS_MILLIONS IS NOT NULL\n",
    "\tORDER BY ROUNDED_JOURNEYS_MILLIONS DESC\n",
    "\tLIMIT 5\n",
    ")\n",
    "SELECT  *\n",
    "FROM emirates_airline_popularity;"
   ]
  },
  {
   "cell_type": "markdown",
   "id": "7f4eac71-e3c3-4b4d-8c59-964ac71fda86",
   "metadata": {},
   "source": [
    "---\n",
    "3. Find the five years with the lowest volume of Underground & DLR journeys, saving as `least_popular_years_tube`. The results should contain the columns `YEAR`, `JOURNEY_TYPE`, and `TOTAL_JOURNEYS_MILLIONS`."
   ]
  },
  {
   "cell_type": "code",
   "execution_count": null,
   "id": "ed4c5893-aa2e-469d-99e9-8eb2fc5ccc43",
   "metadata": {
    "customType": "sql",
    "dataFrameVariableName": "least_popular_years_tube",
    "executionCancelledAt": null,
    "executionTime": 2176,
    "lastExecutedAt": 1754000463533,
    "lastExecutedByKernel": "8120463d-3819-4586-9a23-ef4b4c89b3c9",
    "lastScheduledRunId": null,
    "lastSuccessfullyExecutedCode": "WITH least_popular_years_tube AS\n(\n\tSELECT \n    \tYEAR,\n    \tJOURNEY_TYPE,\n    \tSUM(JOURNEYS_MILLIONS) AS TOTAL_JOURNEYS_MILLIONS\n\tFROM TFL.JOURNEYS\n\tWHERE JOURNEY_TYPE = 'Underground & DLR'\n\tGROUP BY YEAR, JOURNEY_TYPE\n\tORDER BY TOTAL_JOURNEYS_MILLIONS ASC\n\tLIMIT 5\n)\nSELECT *\nFROM least_popular_years_tube;",
    "outputsMetadata": {
     "0": {
      "height": 550,
      "tableState": {},
      "type": "dataFrame"
     }
    },
    "sqlCellMode": "dataFrame",
    "sqlSource": {
     "integrationId": "e0c96696-ae0a-46fb-b6f9-1a43eb428ecb",
     "type": "integration"
    },
    "vscode": {
     "languageId": "sql"
    }
   },
   "outputs": [
    {
     "data": {
      "application/com.datacamp.data-table.v2+json": {
       "table": {
        "data": {
         "JOURNEY_TYPE": [
          "Underground & DLR",
          "Underground & DLR",
          "Underground & DLR",
          "Underground & DLR",
          "Underground & DLR"
         ],
         "TOTAL_JOURNEYS_MILLIONS": [
          310.179316314,
          748.4525442,
          1064.8590086,
          1096.14558838,
          1156.64765448
         ],
         "YEAR": [
          2020,
          2021,
          2022,
          2010,
          2011
         ],
         "index": [
          0,
          1,
          2,
          3,
          4
         ]
        },
        "schema": {
         "fields": [
          {
           "name": "index",
           "type": "integer"
          },
          {
           "name": "YEAR",
           "type": "integer"
          },
          {
           "name": "JOURNEY_TYPE",
           "type": "string"
          },
          {
           "name": "TOTAL_JOURNEYS_MILLIONS",
           "type": "number"
          }
         ],
         "pandas_version": "1.4.0",
         "primaryKey": [
          "index"
         ]
        }
       },
       "total_rows": 5,
       "truncation_type": null
      },
      "text/html": [
       "<div>\n",
       "<style scoped>\n",
       "    .dataframe tbody tr th:only-of-type {\n",
       "        vertical-align: middle;\n",
       "    }\n",
       "\n",
       "    .dataframe tbody tr th {\n",
       "        vertical-align: top;\n",
       "    }\n",
       "\n",
       "    .dataframe thead th {\n",
       "        text-align: right;\n",
       "    }\n",
       "</style>\n",
       "<table border=\"1\" class=\"dataframe\">\n",
       "  <thead>\n",
       "    <tr style=\"text-align: right;\">\n",
       "      <th></th>\n",
       "      <th>YEAR</th>\n",
       "      <th>JOURNEY_TYPE</th>\n",
       "      <th>TOTAL_JOURNEYS_MILLIONS</th>\n",
       "    </tr>\n",
       "  </thead>\n",
       "  <tbody>\n",
       "    <tr>\n",
       "      <th>0</th>\n",
       "      <td>2020</td>\n",
       "      <td>Underground &amp; DLR</td>\n",
       "      <td>310.179316</td>\n",
       "    </tr>\n",
       "    <tr>\n",
       "      <th>1</th>\n",
       "      <td>2021</td>\n",
       "      <td>Underground &amp; DLR</td>\n",
       "      <td>748.452544</td>\n",
       "    </tr>\n",
       "    <tr>\n",
       "      <th>2</th>\n",
       "      <td>2022</td>\n",
       "      <td>Underground &amp; DLR</td>\n",
       "      <td>1064.859009</td>\n",
       "    </tr>\n",
       "    <tr>\n",
       "      <th>3</th>\n",
       "      <td>2010</td>\n",
       "      <td>Underground &amp; DLR</td>\n",
       "      <td>1096.145588</td>\n",
       "    </tr>\n",
       "    <tr>\n",
       "      <th>4</th>\n",
       "      <td>2011</td>\n",
       "      <td>Underground &amp; DLR</td>\n",
       "      <td>1156.647654</td>\n",
       "    </tr>\n",
       "  </tbody>\n",
       "</table>\n",
       "</div>"
      ],
      "text/plain": [
       "   YEAR       JOURNEY_TYPE  TOTAL_JOURNEYS_MILLIONS\n",
       "0  2020  Underground & DLR               310.179316\n",
       "1  2021  Underground & DLR               748.452544\n",
       "2  2022  Underground & DLR              1064.859009\n",
       "3  2010  Underground & DLR              1096.145588\n",
       "4  2011  Underground & DLR              1156.647654"
      ]
     },
     "execution_count": 21,
     "metadata": {
      "application/com.datacamp.data-table.v2+json": {
       "status": "success"
      }
     },
     "output_type": "execute_result"
    }
   ],
   "source": [
    "WITH least_popular_years_tube AS\n",
    "(\n",
    "\tSELECT \n",
    "    \tYEAR,\n",
    "    \tJOURNEY_TYPE,\n",
    "    \tSUM(JOURNEYS_MILLIONS) AS TOTAL_JOURNEYS_MILLIONS\n",
    "\tFROM TFL.JOURNEYS\n",
    "\tWHERE JOURNEY_TYPE = 'Underground & DLR'\n",
    "\tGROUP BY YEAR, JOURNEY_TYPE\n",
    "\tORDER BY TOTAL_JOURNEYS_MILLIONS ASC\n",
    "\tLIMIT 5\n",
    ")\n",
    "SELECT *\n",
    "FROM least_popular_years_tube;"
   ]
  }
 ],
 "metadata": {
  "colab": {
   "name": "Welcome to DataCamp Workspaces.ipynb",
   "provenance": []
  },
  "kernelspec": {
   "display_name": "Python 3 (ipykernel)",
   "language": "python",
   "name": "python3"
  },
  "language_info": {
   "codemirror_mode": {
    "name": "ipython",
    "version": 3
   },
   "file_extension": ".py",
   "mimetype": "text/x-python",
   "name": "python",
   "nbconvert_exporter": "python",
   "pygments_lexer": "ipython3",
   "version": "3.8.10"
  }
 },
 "nbformat": 4,
 "nbformat_minor": 5
}
