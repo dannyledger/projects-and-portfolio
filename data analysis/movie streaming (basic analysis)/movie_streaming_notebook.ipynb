{
 "cells": [
  {
   "cell_type": "markdown",
   "id": "5962b2cd-17bb-4ec9-b2d5-68537ca26860",
   "metadata": {},
   "source": [
    "|  |  |\n",
    "| - | - |\n",
    "| ![Netflix-Device-Collage](Netflix-Device-Collage.jpg) | Netflix. What started in 1997 as a DVD rental service has since exploded into one of the largest entertainment and media companies. _You work for a production company that specializes in nostalgic styles. You want to do some research on movies released in the 1990's. You'll delve into Netflix data and perform exploratory data analysis to better understand this awesome movie decade._ You have been supplied with the dataset `netflix_data.csv`. | "
   ]
  },
  {
   "cell_type": "code",
   "execution_count": null,
   "id": "320a3abc-8a36-4b2b-baaf-473325363a4d",
   "metadata": {
    "executionCancelledAt": null,
    "executionTime": null,
    "lastExecutedAt": null,
    "lastExecutedByKernel": null,
    "lastScheduledRunId": null,
    "lastSuccessfullyExecutedCode": null,
    "outputsMetadata": {
     "0": {
      "height": 50,
      "tableState": {
       "customFilter": {
        "const": {
         "type": "boolean",
         "valid": true,
         "value": true
        },
        "id": "edac0f50-30fa-4b63-8bef-6d618c3b1bce",
        "nodeType": "const"
       }
      },
      "type": "dataFrame"
     }
    }
   },
   "outputs": [
    {
     "data": {
      "application/com.datacamp.data-table.v2+json": {
       "table": {
        "data": {
         "cast": [
          "Demián Bichir, Héctor Bonilla, Oscar Serrano, Azalia Ortiz, Octavio Michel, Carmen Beato",
          "Tedd Chan, Stella Chung, Henley Hii, Lawrence Koh, Tommy Kuan, Josh Lai, Mark Lee, Susan Leong, Benjamin Lim",
          "Elijah Wood, John C. Reilly, Jennifer Connelly, Christopher Plummer, Crispin Glover, Martin Landau, Fred Tatasciore, Alan Oppenheimer, Tom Kane",
          "Jim Sturgess, Kevin Spacey, Kate Bosworth, Aaron Yoo, Liza Lapira, Jacob Pitts, Laurence Fishburne, Jack McGee, Josh Gad, Sam Golzari, Helen Carey, Jack Gilpin",
          "Erdal Beşikçioğlu, Yasemin Allen, Melis Birkan, Saygın Soysal, Berkan Şal, Metin Belgin, Ayça Eren, Selin Uludoğan, Özay Fecht, Suna Yıldızoğlu"
         ],
         "country": [
          "Mexico",
          "Singapore",
          "United States",
          "United States",
          "Turkey"
         ],
         "date_added": [
          "December 23, 2016",
          "December 20, 2018",
          "November 16, 2017",
          "January 1, 2020",
          "July 1, 2017"
         ],
         "description": [
          "After a devastating earthquake hits Mexico City, trapped survivors from all walks of life wait to be rescued while trying desperately to stay alive.",
          "When an army recruit is found dead, his fellow soldiers are forced to confront a terrifying secret that's haunting their jungle island training camp.",
          "In a postapocalyptic world, rag-doll robots hide in fear from dangerous machines out to exterminate them, until a brave newcomer joins the group.",
          "A brilliant group of students become card-counting experts with the intent of swindling millions out of Las Vegas casinos by playing blackjack.",
          "A genetics professor experiments with a treatment for his comatose sister that blends medical and shamanic cures, but unlocks a shocking side effect."
         ],
         "director": [
          "Jorge Michel Grau",
          "Gilbert Chan",
          "Shane Acker",
          "Robert Luketic",
          "Serdar Akar"
         ],
         "duration": [
          93,
          78,
          80,
          123,
          1
         ],
         "genre": [
          "Dramas",
          "Horror Movies",
          "Action",
          "Dramas",
          "International TV"
         ],
         "index": [
          0,
          1,
          2,
          3,
          4
         ],
         "release_year": [
          2016,
          2011,
          2009,
          2008,
          2016
         ],
         "show_id": [
          "s2",
          "s3",
          "s4",
          "s5",
          "s6"
         ],
         "title": [
          "7:19",
          "23:59",
          "9",
          "21",
          "46"
         ],
         "type": [
          "Movie",
          "Movie",
          "Movie",
          "Movie",
          "TV Show"
         ]
        },
        "schema": {
         "fields": [
          {
           "name": "index",
           "type": "integer"
          },
          {
           "name": "show_id",
           "type": "string"
          },
          {
           "name": "type",
           "type": "string"
          },
          {
           "name": "title",
           "type": "string"
          },
          {
           "name": "director",
           "type": "string"
          },
          {
           "name": "cast",
           "type": "string"
          },
          {
           "name": "country",
           "type": "string"
          },
          {
           "name": "date_added",
           "type": "string"
          },
          {
           "name": "release_year",
           "type": "integer"
          },
          {
           "name": "duration",
           "type": "integer"
          },
          {
           "name": "description",
           "type": "string"
          },
          {
           "name": "genre",
           "type": "string"
          }
         ],
         "pandas_version": "1.4.0",
         "primaryKey": [
          "index"
         ]
        }
       },
       "total_rows": 5,
       "truncation_type": null
      },
      "text/html": [
       "<div>\n",
       "<style scoped>\n",
       "    .dataframe tbody tr th:only-of-type {\n",
       "        vertical-align: middle;\n",
       "    }\n",
       "\n",
       "    .dataframe tbody tr th {\n",
       "        vertical-align: top;\n",
       "    }\n",
       "\n",
       "    .dataframe thead th {\n",
       "        text-align: right;\n",
       "    }\n",
       "</style>\n",
       "<table border=\"1\" class=\"dataframe\">\n",
       "  <thead>\n",
       "    <tr style=\"text-align: right;\">\n",
       "      <th></th>\n",
       "      <th>show_id</th>\n",
       "      <th>type</th>\n",
       "      <th>title</th>\n",
       "      <th>director</th>\n",
       "      <th>cast</th>\n",
       "      <th>country</th>\n",
       "      <th>date_added</th>\n",
       "      <th>release_year</th>\n",
       "      <th>duration</th>\n",
       "      <th>description</th>\n",
       "      <th>genre</th>\n",
       "    </tr>\n",
       "  </thead>\n",
       "  <tbody>\n",
       "    <tr>\n",
       "      <th>0</th>\n",
       "      <td>s2</td>\n",
       "      <td>Movie</td>\n",
       "      <td>7:19</td>\n",
       "      <td>Jorge Michel Grau</td>\n",
       "      <td>Demián Bichir, Héctor Bonilla, Oscar Serrano, ...</td>\n",
       "      <td>Mexico</td>\n",
       "      <td>December 23, 2016</td>\n",
       "      <td>2016</td>\n",
       "      <td>93</td>\n",
       "      <td>After a devastating earthquake hits Mexico Cit...</td>\n",
       "      <td>Dramas</td>\n",
       "    </tr>\n",
       "    <tr>\n",
       "      <th>1</th>\n",
       "      <td>s3</td>\n",
       "      <td>Movie</td>\n",
       "      <td>23:59</td>\n",
       "      <td>Gilbert Chan</td>\n",
       "      <td>Tedd Chan, Stella Chung, Henley Hii, Lawrence ...</td>\n",
       "      <td>Singapore</td>\n",
       "      <td>December 20, 2018</td>\n",
       "      <td>2011</td>\n",
       "      <td>78</td>\n",
       "      <td>When an army recruit is found dead, his fellow...</td>\n",
       "      <td>Horror Movies</td>\n",
       "    </tr>\n",
       "    <tr>\n",
       "      <th>2</th>\n",
       "      <td>s4</td>\n",
       "      <td>Movie</td>\n",
       "      <td>9</td>\n",
       "      <td>Shane Acker</td>\n",
       "      <td>Elijah Wood, John C. Reilly, Jennifer Connelly...</td>\n",
       "      <td>United States</td>\n",
       "      <td>November 16, 2017</td>\n",
       "      <td>2009</td>\n",
       "      <td>80</td>\n",
       "      <td>In a postapocalyptic world, rag-doll robots hi...</td>\n",
       "      <td>Action</td>\n",
       "    </tr>\n",
       "    <tr>\n",
       "      <th>3</th>\n",
       "      <td>s5</td>\n",
       "      <td>Movie</td>\n",
       "      <td>21</td>\n",
       "      <td>Robert Luketic</td>\n",
       "      <td>Jim Sturgess, Kevin Spacey, Kate Bosworth, Aar...</td>\n",
       "      <td>United States</td>\n",
       "      <td>January 1, 2020</td>\n",
       "      <td>2008</td>\n",
       "      <td>123</td>\n",
       "      <td>A brilliant group of students become card-coun...</td>\n",
       "      <td>Dramas</td>\n",
       "    </tr>\n",
       "    <tr>\n",
       "      <th>4</th>\n",
       "      <td>s6</td>\n",
       "      <td>TV Show</td>\n",
       "      <td>46</td>\n",
       "      <td>Serdar Akar</td>\n",
       "      <td>Erdal Beşikçioğlu, Yasemin Allen, Melis Birkan...</td>\n",
       "      <td>Turkey</td>\n",
       "      <td>July 1, 2017</td>\n",
       "      <td>2016</td>\n",
       "      <td>1</td>\n",
       "      <td>A genetics professor experiments with a treatm...</td>\n",
       "      <td>International TV</td>\n",
       "    </tr>\n",
       "  </tbody>\n",
       "</table>\n",
       "</div>"
      ],
      "text/plain": [
       "  show_id  ...             genre\n",
       "0      s2  ...            Dramas\n",
       "1      s3  ...     Horror Movies\n",
       "2      s4  ...            Action\n",
       "3      s5  ...            Dramas\n",
       "4      s6  ...  International TV\n",
       "\n",
       "[5 rows x 11 columns]"
      ]
     },
     "execution_count": 4,
     "metadata": {
      "application/com.datacamp.data-table.v2+json": {
       "status": "success"
      }
     },
     "output_type": "execute_result"
    }
   ],
   "source": [
    "import pandas as pd\n",
    "\n",
    "# read in data as a dataframe\n",
    "netflix_df = pd.read_csv(\"netflix_data.csv\")\n",
    "\n",
    "netflix_df.head()"
   ]
  },
  {
   "cell_type": "code",
   "execution_count": 5,
   "id": "651fa6fe-dae0-47bd-b34a-e040af5ad4dc",
   "metadata": {
    "executionCancelledAt": null,
    "executionTime": null,
    "lastExecutedAt": null,
    "lastExecutedByKernel": null,
    "lastScheduledRunId": null,
    "lastSuccessfullyExecutedCode": null,
    "outputsMetadata": {
     "0": {
      "height": 50,
      "tableState": {
       "customFilter": {
        "const": {
         "type": "boolean",
         "valid": true,
         "value": true
        },
        "id": "e17654d4-b3ab-45e3-830f-bbb5384d30ad",
        "nodeType": "const"
       },
       "sort": {
        "sortModel": [
         {
          "colId": "release_year",
          "sort": "asc"
         }
        ]
       }
      },
      "type": "dataFrame"
     }
    }
   },
   "outputs": [
    {
     "data": {
      "application/com.datacamp.data-table.v2+json": {
       "table": {
        "data": {
         "cast": [
          "Samuel L. Jackson, John Heard, Kelly Rowan, Clifton Collins Jr., Tony Plana",
          "Debra Winger, Barbara Hershey, Gabriel Byrne, Laurie Metcalf, John Terry, Maggie Gyllenhaal, Jake Gyllenhaal, Chloe Webb, David Strathairn",
          "Will Ferrell, Chris Kattan, Dan Hedaya, Molly Shannon, Richard Grieco, Loni Anderson, Elisa Donovan, Gigi Rice, Lochlyn Munro, Dwayne Hickman",
          "Martin Lawrence, Lynn Whitfield, Regina King, Bobby Brown, Della Reese, Daryl Mitchell, Roger Mosley, Malinda Williams, Roger E. Mosley, Simbi Khali, Tangie Ambrose, Wendy Raquel Robinson, Stacii Jae Johnson, Faizon Love, Miguel A. Núñez Jr., Tracy Morgan",
          "Saif Ali Khan, Mamta Kulkarni, Mohnish Bahl, Sharmila Tagore, Saeed Jaffrey, Kader Khan",
          "Amitabh Bachchan, Mithun Chakraborty, Danny Denzongpa, Madhavi, Neelam, Alok Nath, Rohini Hattangadi, Tinnu Anand, Vikram Gokhale, Archana Puran Singh",
          "Kevin Spacey, Annette Bening, Thora Birch, Wes Bentley, Mena Suvari, Chris Cooper, Peter Gallagher, Allison Janney, Scott Bakula, Sam Robards",
          "Edward Norton, Edward Furlong, Beverly D'Angelo, Jennifer Lien, Ethan Suplee, Fairuza Balk, Avery Brooks, Elliott Gould, Stacy Keach, William Russ, Guy Torry",
          "Philip Glasser, James Stewart, Erica Yohn, Cathy Cavadini, Nehemiah Persoff, Dom DeLuise, Amy Irving, John Cleese, Jon Lovitz",
          "Thomas Dekker, Lacey Chabert, Jane Singer, Nehemiah Persoff, Susan Boyd, Robert Hays, Pat Musick, Dom DeLuise, Candi Milo, Jeff Bennett"
         ],
         "country": [
          "United States",
          "United States",
          "United States",
          "United States",
          "India",
          "India",
          "United States",
          "United States",
          "United States",
          "United States"
         ],
         "date_added": [
          "November 1, 2019",
          "April 1, 2018",
          "December 1, 2019",
          "December 1, 2020",
          "June 1, 2017",
          "April 1, 2020",
          "January 1, 2020",
          "November 1, 2019",
          "April 1, 2018",
          "April 1, 2018"
         ],
         "description": [
          "After one of his high school students attacks him, dedicated teacher Trevor Garfield grows weary of the gang warfare in the New York City school system and moves to California to teach there, thinking it must be a less hostile environment.",
          "At the center of this engrossing melodrama is a Golden Globe-nominated turn by Debra Winger, who plays a sheltered, slow-witted woman living with her widowed Aunt Frances while working at a dry cleaners.",
          "After a run-in with Richard Grieco, dimwits Doug and Steve gain entry to a swanky nightclub in this comedy based on a \"Saturday Night Live\" sketch.",
          "When a philandering club promoter sets out to woo a rich, glamorous woman, he has no clue just how much mayhem he's about to unleash on his life.",
          "Raised by a kindly thief, orphaned Jimmy goes on the run from goons and falls in love with Jyoti, whose father indirectly caused his parents' deaths.",
          "A boy grows up to become a gangster in pursuit of the mobster who killed his innocent father, but revenge and reparation may come at great costs.",
          "While struggling to endure his tightly wound wife, an unfulfilling job and a surly teen, a man becomes obsessed with one of his daughter's friends.",
          "A neo-Nazi gets sent to prison for murder and comes out a changed man. But can he prevent his younger brother from following in his footsteps?",
          "Fievel and his family head west for what turns out to be a wild adventure. Deep in cowboy country, the intrepid mouse faces down a nasty feline.",
          "When a monster goes on a mouse-napping spree in New York, Fievel and his friends help a reporter get to the bottom of the mystery."
         ],
         "director": [
          "Kevin Reynolds",
          "Stephen Gyllenhaal",
          "John Fortenberry",
          "Martin Lawrence",
          "Umesh Mehra",
          "Mukul Anand",
          "Sam Mendes",
          "Tony Kaye",
          "Phil Nibbelink, Simon Wells",
          "Larry Latham"
         ],
         "duration": [
          119,
          101,
          82,
          108,
          154,
          174,
          122,
          119,
          75,
          75
         ],
         "genre": [
          "Dramas",
          "Dramas",
          "Comedies",
          "Comedies",
          "Dramas",
          "Dramas",
          "Dramas",
          "Dramas",
          "Children",
          "Children"
         ],
         "index": [
          6,
          118,
          145,
          167,
          194,
          240,
          315,
          320,
          333,
          334
         ],
         "release_year": [
          1997,
          1993,
          1998,
          1996,
          1993,
          1990,
          1999,
          1998,
          1991,
          1999
         ],
         "show_id": [
          "s8",
          "s167",
          "s211",
          "s239",
          "s274",
          "s344",
          "s456",
          "s467",
          "s487",
          "s488"
         ],
         "title": [
          "187",
          "A Dangerous Woman",
          "A Night at the Roxbury",
          "A Thin Line Between Love & Hate",
          "Aashik Awara",
          "Agneepath",
          "American Beauty",
          "American History X",
          "An American Tail: Fievel Goes West",
          "An American Tail: The Mystery of the Night Monster"
         ],
         "type": [
          "Movie",
          "Movie",
          "Movie",
          "Movie",
          "Movie",
          "Movie",
          "Movie",
          "Movie",
          "Movie",
          "Movie"
         ]
        },
        "schema": {
         "fields": [
          {
           "name": "index",
           "type": "integer"
          },
          {
           "name": "show_id",
           "type": "string"
          },
          {
           "name": "type",
           "type": "string"
          },
          {
           "name": "title",
           "type": "string"
          },
          {
           "name": "director",
           "type": "string"
          },
          {
           "name": "cast",
           "type": "string"
          },
          {
           "name": "country",
           "type": "string"
          },
          {
           "name": "date_added",
           "type": "string"
          },
          {
           "name": "release_year",
           "type": "integer"
          },
          {
           "name": "duration",
           "type": "integer"
          },
          {
           "name": "description",
           "type": "string"
          },
          {
           "name": "genre",
           "type": "string"
          }
         ],
         "pandas_version": "1.4.0",
         "primaryKey": [
          "index"
         ]
        }
       },
       "total_rows": 10,
       "truncation_type": null
      },
      "text/html": [
       "<div>\n",
       "<style scoped>\n",
       "    .dataframe tbody tr th:only-of-type {\n",
       "        vertical-align: middle;\n",
       "    }\n",
       "\n",
       "    .dataframe tbody tr th {\n",
       "        vertical-align: top;\n",
       "    }\n",
       "\n",
       "    .dataframe thead th {\n",
       "        text-align: right;\n",
       "    }\n",
       "</style>\n",
       "<table border=\"1\" class=\"dataframe\">\n",
       "  <thead>\n",
       "    <tr style=\"text-align: right;\">\n",
       "      <th></th>\n",
       "      <th>show_id</th>\n",
       "      <th>type</th>\n",
       "      <th>title</th>\n",
       "      <th>director</th>\n",
       "      <th>cast</th>\n",
       "      <th>country</th>\n",
       "      <th>date_added</th>\n",
       "      <th>release_year</th>\n",
       "      <th>duration</th>\n",
       "      <th>description</th>\n",
       "      <th>genre</th>\n",
       "    </tr>\n",
       "  </thead>\n",
       "  <tbody>\n",
       "    <tr>\n",
       "      <th>6</th>\n",
       "      <td>s8</td>\n",
       "      <td>Movie</td>\n",
       "      <td>187</td>\n",
       "      <td>Kevin Reynolds</td>\n",
       "      <td>Samuel L. Jackson, John Heard, Kelly Rowan, Cl...</td>\n",
       "      <td>United States</td>\n",
       "      <td>November 1, 2019</td>\n",
       "      <td>1997</td>\n",
       "      <td>119</td>\n",
       "      <td>After one of his high school students attacks ...</td>\n",
       "      <td>Dramas</td>\n",
       "    </tr>\n",
       "    <tr>\n",
       "      <th>118</th>\n",
       "      <td>s167</td>\n",
       "      <td>Movie</td>\n",
       "      <td>A Dangerous Woman</td>\n",
       "      <td>Stephen Gyllenhaal</td>\n",
       "      <td>Debra Winger, Barbara Hershey, Gabriel Byrne, ...</td>\n",
       "      <td>United States</td>\n",
       "      <td>April 1, 2018</td>\n",
       "      <td>1993</td>\n",
       "      <td>101</td>\n",
       "      <td>At the center of this engrossing melodrama is ...</td>\n",
       "      <td>Dramas</td>\n",
       "    </tr>\n",
       "    <tr>\n",
       "      <th>145</th>\n",
       "      <td>s211</td>\n",
       "      <td>Movie</td>\n",
       "      <td>A Night at the Roxbury</td>\n",
       "      <td>John Fortenberry</td>\n",
       "      <td>Will Ferrell, Chris Kattan, Dan Hedaya, Molly ...</td>\n",
       "      <td>United States</td>\n",
       "      <td>December 1, 2019</td>\n",
       "      <td>1998</td>\n",
       "      <td>82</td>\n",
       "      <td>After a run-in with Richard Grieco, dimwits Do...</td>\n",
       "      <td>Comedies</td>\n",
       "    </tr>\n",
       "    <tr>\n",
       "      <th>167</th>\n",
       "      <td>s239</td>\n",
       "      <td>Movie</td>\n",
       "      <td>A Thin Line Between Love &amp; Hate</td>\n",
       "      <td>Martin Lawrence</td>\n",
       "      <td>Martin Lawrence, Lynn Whitfield, Regina King, ...</td>\n",
       "      <td>United States</td>\n",
       "      <td>December 1, 2020</td>\n",
       "      <td>1996</td>\n",
       "      <td>108</td>\n",
       "      <td>When a philandering club promoter sets out to ...</td>\n",
       "      <td>Comedies</td>\n",
       "    </tr>\n",
       "    <tr>\n",
       "      <th>194</th>\n",
       "      <td>s274</td>\n",
       "      <td>Movie</td>\n",
       "      <td>Aashik Awara</td>\n",
       "      <td>Umesh Mehra</td>\n",
       "      <td>Saif Ali Khan, Mamta Kulkarni, Mohnish Bahl, S...</td>\n",
       "      <td>India</td>\n",
       "      <td>June 1, 2017</td>\n",
       "      <td>1993</td>\n",
       "      <td>154</td>\n",
       "      <td>Raised by a kindly thief, orphaned Jimmy goes ...</td>\n",
       "      <td>Dramas</td>\n",
       "    </tr>\n",
       "    <tr>\n",
       "      <th>240</th>\n",
       "      <td>s344</td>\n",
       "      <td>Movie</td>\n",
       "      <td>Agneepath</td>\n",
       "      <td>Mukul Anand</td>\n",
       "      <td>Amitabh Bachchan, Mithun Chakraborty, Danny De...</td>\n",
       "      <td>India</td>\n",
       "      <td>April 1, 2020</td>\n",
       "      <td>1990</td>\n",
       "      <td>174</td>\n",
       "      <td>A boy grows up to become a gangster in pursuit...</td>\n",
       "      <td>Dramas</td>\n",
       "    </tr>\n",
       "    <tr>\n",
       "      <th>315</th>\n",
       "      <td>s456</td>\n",
       "      <td>Movie</td>\n",
       "      <td>American Beauty</td>\n",
       "      <td>Sam Mendes</td>\n",
       "      <td>Kevin Spacey, Annette Bening, Thora Birch, Wes...</td>\n",
       "      <td>United States</td>\n",
       "      <td>January 1, 2020</td>\n",
       "      <td>1999</td>\n",
       "      <td>122</td>\n",
       "      <td>While struggling to endure his tightly wound w...</td>\n",
       "      <td>Dramas</td>\n",
       "    </tr>\n",
       "    <tr>\n",
       "      <th>320</th>\n",
       "      <td>s467</td>\n",
       "      <td>Movie</td>\n",
       "      <td>American History X</td>\n",
       "      <td>Tony Kaye</td>\n",
       "      <td>Edward Norton, Edward Furlong, Beverly D'Angel...</td>\n",
       "      <td>United States</td>\n",
       "      <td>November 1, 2019</td>\n",
       "      <td>1998</td>\n",
       "      <td>119</td>\n",
       "      <td>A neo-Nazi gets sent to prison for murder and ...</td>\n",
       "      <td>Dramas</td>\n",
       "    </tr>\n",
       "    <tr>\n",
       "      <th>333</th>\n",
       "      <td>s487</td>\n",
       "      <td>Movie</td>\n",
       "      <td>An American Tail: Fievel Goes West</td>\n",
       "      <td>Phil Nibbelink, Simon Wells</td>\n",
       "      <td>Philip Glasser, James Stewart, Erica Yohn, Cat...</td>\n",
       "      <td>United States</td>\n",
       "      <td>April 1, 2018</td>\n",
       "      <td>1991</td>\n",
       "      <td>75</td>\n",
       "      <td>Fievel and his family head west for what turns...</td>\n",
       "      <td>Children</td>\n",
       "    </tr>\n",
       "    <tr>\n",
       "      <th>334</th>\n",
       "      <td>s488</td>\n",
       "      <td>Movie</td>\n",
       "      <td>An American Tail: The Mystery of the Night Mon...</td>\n",
       "      <td>Larry Latham</td>\n",
       "      <td>Thomas Dekker, Lacey Chabert, Jane Singer, Neh...</td>\n",
       "      <td>United States</td>\n",
       "      <td>April 1, 2018</td>\n",
       "      <td>1999</td>\n",
       "      <td>75</td>\n",
       "      <td>When a monster goes on a mouse-napping spree i...</td>\n",
       "      <td>Children</td>\n",
       "    </tr>\n",
       "  </tbody>\n",
       "</table>\n",
       "</div>"
      ],
      "text/plain": [
       "    show_id   type  ...                                        description     genre\n",
       "6        s8  Movie  ...  After one of his high school students attacks ...    Dramas\n",
       "118    s167  Movie  ...  At the center of this engrossing melodrama is ...    Dramas\n",
       "145    s211  Movie  ...  After a run-in with Richard Grieco, dimwits Do...  Comedies\n",
       "167    s239  Movie  ...  When a philandering club promoter sets out to ...  Comedies\n",
       "194    s274  Movie  ...  Raised by a kindly thief, orphaned Jimmy goes ...    Dramas\n",
       "240    s344  Movie  ...  A boy grows up to become a gangster in pursuit...    Dramas\n",
       "315    s456  Movie  ...  While struggling to endure his tightly wound w...    Dramas\n",
       "320    s467  Movie  ...  A neo-Nazi gets sent to prison for murder and ...    Dramas\n",
       "333    s487  Movie  ...  Fievel and his family head west for what turns...  Children\n",
       "334    s488  Movie  ...  When a monster goes on a mouse-napping spree i...  Children\n",
       "\n",
       "[10 rows x 11 columns]"
      ]
     },
     "execution_count": 5,
     "metadata": {
      "application/com.datacamp.data-table.v2+json": {
       "status": "success"
      }
     },
     "output_type": "execute_result"
    }
   ],
   "source": [
    "# filter the dataframe for movies released between 1990 and 1999\n",
    "movies_90s = netflix_df[(netflix_df['type'] == 'Movie') & \n",
    "                        (netflix_df['release_year'] >= 1990) & \n",
    "                        (netflix_df['release_year'] <= 1999)]\n",
    "movies_90s.head(10)"
   ]
  },
  {
   "cell_type": "code",
   "execution_count": 56,
   "id": "4fe74363-d43b-482b-b1c4-ef1be31b6ea7",
   "metadata": {
    "executionCancelledAt": null,
    "executionTime": 60,
    "lastExecutedAt": 1747903700178,
    "lastExecutedByKernel": "cfb5a90d-91a2-426e-9ddf-8086c95ea623",
    "lastScheduledRunId": null,
    "lastSuccessfullyExecutedCode": "# Prepped lists\nshort = []\nstandard = []\n\n# Loop through rows using .iterrows()\nfor index, row in movies_90s.iterrows():\n    if row['duration'] < 90 and row['genre'] == 'Action':\n        short.append(1)\n    else:\n        standard.append(1)\n\nshort_movie_count = sum(short)\nstandard_movie_count = sum(standard)\n\nprint(\"Filtering complete.\")\nprint(f\"Short movies: {short_movie_count}\")\nprint(f\"Standard movies: {standard_movie_count}\")\n",
    "outputsMetadata": {
     "0": {
      "height": 80,
      "type": "stream"
     }
    }
   },
   "outputs": [
    {
     "name": "stdout",
     "output_type": "stream",
     "text": [
      "Filtering complete.\n",
      "Short movies: 7\n",
      "Standard movies: 176\n"
     ]
    }
   ],
   "source": [
    "# prepped lists\n",
    "short = []\n",
    "standard = []\n",
    "\n",
    "# loop through rows using .iterrows()\n",
    "for index, row in movies_90s.iterrows():\n",
    "    if row['duration'] < 90 and row['genre'] == 'Action':\n",
    "        short.append(1)\n",
    "    else:\n",
    "        standard.append(1)\n",
    "\n",
    "short_movie_count = sum(short)\n",
    "standard_movie_count = sum(standard)\n",
    "\n",
    "# use formatted strings for the output\n",
    "print(\"Filtering complete.\")\n",
    "print(f\"Short movies: {short_movie_count}\")\n",
    "print(f\"Standard movies: {standard_movie_count}\")\n"
   ]
  },
  {
   "cell_type": "code",
   "execution_count": 57,
   "id": "9ba92fd2-e204-44f3-84d9-dfa15c17e9ea",
   "metadata": {
    "executionCancelledAt": null,
    "executionTime": 48,
    "lastExecutedAt": 1747903700226,
    "lastExecutedByKernel": "cfb5a90d-91a2-426e-9ddf-8086c95ea623",
    "lastScheduledRunId": null,
    "lastSuccessfullyExecutedCode": "duration = int(movies_90s['duration'].mode())\n\nprint(f\"The most frequnt movie time in the 90s was {duration} minutes.\")\n\n    ",
    "outputsMetadata": {
     "0": {
      "height": 38,
      "type": "stream"
     }
    }
   },
   "outputs": [
    {
     "name": "stdout",
     "output_type": "stream",
     "text": [
      "The most frequnt movie time in the 90s was 94 minutes.\n"
     ]
    }
   ],
   "source": [
    "# find the most frequent duration\n",
    "duration = int(movies_90s['duration'].mode())\n",
    "\n",
    "print(f\"The most frequnt movie time in the 90s was {duration} minutes.\")"
   ]
  }
 ],
 "metadata": {
  "colab": {
   "name": "Welcome to DataCamp Workspaces.ipynb",
   "provenance": []
  },
  "editor": "DataLab",
  "kernelspec": {
   "display_name": "Python 3 (ipykernel)",
   "language": "python",
   "name": "python3"
  },
  "language_info": {
   "codemirror_mode": {
    "name": "ipython",
    "version": 3
   },
   "file_extension": ".py",
   "mimetype": "text/x-python",
   "name": "python",
   "nbconvert_exporter": "python",
   "pygments_lexer": "ipython3",
   "version": "3.8.10"
  }
 },
 "nbformat": 4,
 "nbformat_minor": 5
}
