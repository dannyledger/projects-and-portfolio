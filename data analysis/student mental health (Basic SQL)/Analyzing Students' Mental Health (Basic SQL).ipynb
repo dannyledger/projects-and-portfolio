{
 "cells": [
  {
   "cell_type": "markdown",
   "id": "3b05e587-87e3-4bec-9511-ddaae6552ac4",
   "metadata": {},
   "source": [
    "Does going to university in a different country affect your mental health? A Japanese international university surveyed its students in 2018 and published a study the following year that was approved by several ethical and regulatory boards. The study found that international students have a higher risk of mental health difficulties than the general population, and that social connectedness (belonging to a social group) and acculturative stress (stress associated with joining a new culture) are predictive of depression. Explore the `students` data using PostgreSQL to find out if you would come to a similar conclusion for international students and see if the length of stay is a contributing factor. Here is a data description of the columns you may find helpful. "
   ]
  },
  {
   "cell_type": "markdown",
   "id": "167d9c0e-7aba-4e44-99e3-679159e28970",
   "metadata": {},
   "source": [
    "| Field Name    | Description                                      |\n",
    "| ------------- | ------------------------------------------------ |\n",
    "| `inter_dom`     | Types of students (international or domestic)   |\n",
    "| `japanese_cate` | Japanese language proficiency                    |\n",
    "| `english_cate`  | English language proficiency                     |\n",
    "| `academic`      | Current academic level (undergraduate or graduate) |\n",
    "| `age`           | Current age of student                           |\n",
    "| `stay`          | Current length of stay in years                  |\n",
    "| `todep`         | Total score of depression (PHQ-9 test)           |\n",
    "| `tosc`          | Total score of social connectedness (SCS test)   |\n",
    "| `toas`          | Total score of acculturative stress (ASISS test) |"
   ]
  },
  {
   "cell_type": "code",
   "execution_count": null,
   "id": "a60a4d75-634c-4965-8e01-804780e6df98",
   "metadata": {
    "customType": "sql",
    "dataFrameVariableName": "students",
    "executionCancelledAt": null,
    "executionTime": 1305,
    "lastExecutedAt": 1754001848947,
    "lastExecutedByKernel": "50bcf2a1-a836-40bc-b09d-a68a7bfa4c01",
    "lastScheduledRunId": null,
    "lastSuccessfullyExecutedCode": "-- preview data\nSELECT * \nFROM students\nLIMIT 5;",
    "outputsMetadata": {
     "0": {
      "height": 550,
      "tableState": {
       "customFilter": {
        "const": {
         "type": "boolean",
         "valid": true,
         "value": true
        },
        "id": "89789534-f5e2-411f-bb47-2493566070a4",
        "nodeType": "const"
       }
      },
      "type": "dataFrame"
     }
    },
    "sqlCellMode": "dataFrame",
    "sqlSource": {
     "integrationId": "89e17161-a224-4a8a-846b-0adc0fe7a4b1",
     "integrationType": "postgresql",
     "type": "integration"
    },
    "vscode": {
     "languageId": "sql"
    }
   },
   "outputs": [
    {
     "data": {
      "application/com.datacamp.data-table.v2+json": {
       "table": {
        "data": {
         "academic": [
          "Grad",
          "Grad",
          "Grad",
          "Grad",
          "Grad"
         ],
         "acs": [
          11,
          3,
          4,
          6,
          7
         ],
         "afear": [
          8,
          4,
          6,
          8,
          8
         ],
         "age": [
          24,
          28,
          25,
          29,
          28
         ],
         "age_cate": [
          4,
          5,
          4,
          5,
          5
         ],
         "aguilt": [
          2,
          2,
          3,
          4,
          4
         ],
         "ahome": [
          9,
          7,
          4,
          10,
          12
         ],
         "alone": [
          3,
          1,
          1,
          4,
          4
         ],
         "alone_bi": [
          "No",
          "No",
          "No",
          "No",
          "No"
         ],
         "amiscell": [
          27,
          10,
          14,
          21,
          31
         ],
         "apd": [
          23,
          8,
          13,
          16,
          15
         ],
         "aph": [
          11,
          5,
          7,
          10,
          5
         ],
         "dep": [
          "No",
          "No",
          "No",
          "No",
          "No"
         ],
         "depsev": [
          "Min",
          "Min",
          "Min",
          "Min",
          "Min"
         ],
         "deptype": [
          "No",
          "No",
          "No",
          "No",
          "No"
         ],
         "doctor": [
          4,
          4,
          1,
          2,
          5
         ],
         "doctor_bi": [
          "No",
          "No",
          "No",
          "No",
          "Yes"
         ],
         "english": [
          5,
          4,
          4,
          3,
          3
         ],
         "english_cate": [
          "High",
          "High",
          "High",
          "Average",
          "Average"
         ],
         "friends": [
          5,
          7,
          3,
          5,
          5
         ],
         "friends_bi": [
          "Yes",
          "Yes",
          "No",
          "Yes",
          "Yes"
         ],
         "gender": [
          "Male",
          "Male",
          "Male",
          "Female",
          "Female"
         ],
         "index": [
          0,
          1,
          2,
          3,
          4
         ],
         "inter_dom": [
          "Inter",
          "Inter",
          "Inter",
          "Inter",
          "Inter"
         ],
         "internet": [
          null,
          null,
          null,
          null,
          null
         ],
         "internet_bi": [
          "No",
          "No",
          "No",
          "No",
          "No"
         ],
         "intimate": [
          "",
          "",
          "Yes",
          "No",
          "Yes"
         ],
         "japanese": [
          3,
          4,
          4,
          2,
          1
         ],
         "japanese_cate": [
          "Average",
          "High",
          "High",
          "Low",
          "Low"
         ],
         "others": [
          4,
          1,
          1,
          4,
          4
         ],
         "others_bi": [
          "No",
          "No",
          "No",
          "No",
          "No"
         ],
         "parents": [
          6,
          7,
          3,
          5,
          5
         ],
         "parents_bi": [
          "Yes",
          "Yes",
          "No",
          "Yes",
          "Yes"
         ],
         "partner": [
          5,
          7,
          3,
          5,
          5
         ],
         "partner_bi": [
          "Yes",
          "Yes",
          "No",
          "Yes",
          "Yes"
         ],
         "phone": [
          1,
          4,
          2,
          2,
          2
         ],
         "phone_bi": [
          "No",
          "No",
          "No",
          "No",
          "No"
         ],
         "profess": [
          2,
          4,
          1,
          5,
          5
         ],
         "professional_bi": [
          "No",
          "No",
          "No",
          "Yes",
          "Yes"
         ],
         "region": [
          "SEA",
          "SEA",
          "SEA",
          "EA",
          "EA"
         ],
         "relative": [
          3,
          4,
          1,
          5,
          2
         ],
         "relative_bi": [
          "No",
          "No",
          "No",
          "Yes",
          "No"
         ],
         "reli": [
          1,
          1,
          1,
          2,
          5
         ],
         "religion": [
          "Yes",
          "No",
          "Yes",
          "No",
          "No"
         ],
         "religion_bi": [
          "No",
          "No",
          "No",
          "No",
          "Yes"
         ],
         "stay": [
          5,
          1,
          6,
          1,
          1
         ],
         "stay_cate": [
          "Long",
          "Short",
          "Long",
          "Short",
          "Short"
         ],
         "suicide": [
          "No",
          "No",
          "No",
          "No",
          "No"
         ],
         "toas": [
          91,
          39,
          51,
          75,
          82
         ],
         "todep": [
          0,
          2,
          2,
          3,
          3
         ],
         "tosc": [
          34,
          48,
          41,
          37,
          37
         ]
        },
        "schema": {
         "fields": [
          {
           "name": "index",
           "type": "integer"
          },
          {
           "name": "inter_dom",
           "type": "string"
          },
          {
           "name": "region",
           "type": "string"
          },
          {
           "name": "gender",
           "type": "string"
          },
          {
           "name": "academic",
           "type": "string"
          },
          {
           "name": "age",
           "type": "integer"
          },
          {
           "name": "age_cate",
           "type": "integer"
          },
          {
           "name": "stay",
           "type": "integer"
          },
          {
           "name": "stay_cate",
           "type": "string"
          },
          {
           "name": "japanese",
           "type": "integer"
          },
          {
           "name": "japanese_cate",
           "type": "string"
          },
          {
           "name": "english",
           "type": "integer"
          },
          {
           "name": "english_cate",
           "type": "string"
          },
          {
           "name": "intimate",
           "type": "string"
          },
          {
           "name": "religion",
           "type": "string"
          },
          {
           "name": "suicide",
           "type": "string"
          },
          {
           "name": "dep",
           "type": "string"
          },
          {
           "name": "deptype",
           "type": "string"
          },
          {
           "name": "todep",
           "type": "integer"
          },
          {
           "name": "depsev",
           "type": "string"
          },
          {
           "name": "tosc",
           "type": "integer"
          },
          {
           "name": "apd",
           "type": "integer"
          },
          {
           "name": "ahome",
           "type": "integer"
          },
          {
           "name": "aph",
           "type": "integer"
          },
          {
           "name": "afear",
           "type": "integer"
          },
          {
           "name": "acs",
           "type": "integer"
          },
          {
           "name": "aguilt",
           "type": "integer"
          },
          {
           "name": "amiscell",
           "type": "integer"
          },
          {
           "name": "toas",
           "type": "integer"
          },
          {
           "name": "partner",
           "type": "integer"
          },
          {
           "name": "friends",
           "type": "integer"
          },
          {
           "name": "parents",
           "type": "integer"
          },
          {
           "name": "relative",
           "type": "integer"
          },
          {
           "name": "profess",
           "type": "integer"
          },
          {
           "name": "phone",
           "type": "integer"
          },
          {
           "name": "doctor",
           "type": "integer"
          },
          {
           "name": "reli",
           "type": "integer"
          },
          {
           "name": "alone",
           "type": "integer"
          },
          {
           "name": "others",
           "type": "integer"
          },
          {
           "name": "internet",
           "type": "number"
          },
          {
           "name": "partner_bi",
           "type": "string"
          },
          {
           "name": "friends_bi",
           "type": "string"
          },
          {
           "name": "parents_bi",
           "type": "string"
          },
          {
           "name": "relative_bi",
           "type": "string"
          },
          {
           "name": "professional_bi",
           "type": "string"
          },
          {
           "name": "phone_bi",
           "type": "string"
          },
          {
           "name": "doctor_bi",
           "type": "string"
          },
          {
           "name": "religion_bi",
           "type": "string"
          },
          {
           "name": "alone_bi",
           "type": "string"
          },
          {
           "name": "others_bi",
           "type": "string"
          },
          {
           "name": "internet_bi",
           "type": "string"
          }
         ],
         "pandas_version": "1.4.0",
         "primaryKey": [
          "index"
         ]
        }
       },
       "total_rows": 5,
       "truncation_type": null
      },
      "text/html": [
       "<div>\n",
       "<style scoped>\n",
       "    .dataframe tbody tr th:only-of-type {\n",
       "        vertical-align: middle;\n",
       "    }\n",
       "\n",
       "    .dataframe tbody tr th {\n",
       "        vertical-align: top;\n",
       "    }\n",
       "\n",
       "    .dataframe thead th {\n",
       "        text-align: right;\n",
       "    }\n",
       "</style>\n",
       "<table border=\"1\" class=\"dataframe\">\n",
       "  <thead>\n",
       "    <tr style=\"text-align: right;\">\n",
       "      <th></th>\n",
       "      <th>inter_dom</th>\n",
       "      <th>region</th>\n",
       "      <th>gender</th>\n",
       "      <th>academic</th>\n",
       "      <th>age</th>\n",
       "      <th>age_cate</th>\n",
       "      <th>stay</th>\n",
       "      <th>stay_cate</th>\n",
       "      <th>japanese</th>\n",
       "      <th>japanese_cate</th>\n",
       "      <th>english</th>\n",
       "      <th>english_cate</th>\n",
       "      <th>intimate</th>\n",
       "      <th>religion</th>\n",
       "      <th>suicide</th>\n",
       "      <th>dep</th>\n",
       "      <th>deptype</th>\n",
       "      <th>todep</th>\n",
       "      <th>depsev</th>\n",
       "      <th>tosc</th>\n",
       "      <th>apd</th>\n",
       "      <th>ahome</th>\n",
       "      <th>aph</th>\n",
       "      <th>afear</th>\n",
       "      <th>acs</th>\n",
       "      <th>aguilt</th>\n",
       "      <th>amiscell</th>\n",
       "      <th>toas</th>\n",
       "      <th>partner</th>\n",
       "      <th>friends</th>\n",
       "      <th>parents</th>\n",
       "      <th>relative</th>\n",
       "      <th>profess</th>\n",
       "      <th>phone</th>\n",
       "      <th>doctor</th>\n",
       "      <th>reli</th>\n",
       "      <th>alone</th>\n",
       "      <th>others</th>\n",
       "      <th>internet</th>\n",
       "      <th>partner_bi</th>\n",
       "      <th>friends_bi</th>\n",
       "      <th>parents_bi</th>\n",
       "      <th>relative_bi</th>\n",
       "      <th>professional_bi</th>\n",
       "      <th>phone_bi</th>\n",
       "      <th>doctor_bi</th>\n",
       "      <th>religion_bi</th>\n",
       "      <th>alone_bi</th>\n",
       "      <th>others_bi</th>\n",
       "      <th>internet_bi</th>\n",
       "    </tr>\n",
       "  </thead>\n",
       "  <tbody>\n",
       "    <tr>\n",
       "      <th>0</th>\n",
       "      <td>Inter</td>\n",
       "      <td>SEA</td>\n",
       "      <td>Male</td>\n",
       "      <td>Grad</td>\n",
       "      <td>24</td>\n",
       "      <td>4</td>\n",
       "      <td>5</td>\n",
       "      <td>Long</td>\n",
       "      <td>3</td>\n",
       "      <td>Average</td>\n",
       "      <td>5</td>\n",
       "      <td>High</td>\n",
       "      <td></td>\n",
       "      <td>Yes</td>\n",
       "      <td>No</td>\n",
       "      <td>No</td>\n",
       "      <td>No</td>\n",
       "      <td>0</td>\n",
       "      <td>Min</td>\n",
       "      <td>34</td>\n",
       "      <td>23</td>\n",
       "      <td>9</td>\n",
       "      <td>11</td>\n",
       "      <td>8</td>\n",
       "      <td>11</td>\n",
       "      <td>2</td>\n",
       "      <td>27</td>\n",
       "      <td>91</td>\n",
       "      <td>5</td>\n",
       "      <td>5</td>\n",
       "      <td>6</td>\n",
       "      <td>3</td>\n",
       "      <td>2</td>\n",
       "      <td>1</td>\n",
       "      <td>4</td>\n",
       "      <td>1</td>\n",
       "      <td>3</td>\n",
       "      <td>4</td>\n",
       "      <td>NaN</td>\n",
       "      <td>Yes</td>\n",
       "      <td>Yes</td>\n",
       "      <td>Yes</td>\n",
       "      <td>No</td>\n",
       "      <td>No</td>\n",
       "      <td>No</td>\n",
       "      <td>No</td>\n",
       "      <td>No</td>\n",
       "      <td>No</td>\n",
       "      <td>No</td>\n",
       "      <td>No</td>\n",
       "    </tr>\n",
       "    <tr>\n",
       "      <th>1</th>\n",
       "      <td>Inter</td>\n",
       "      <td>SEA</td>\n",
       "      <td>Male</td>\n",
       "      <td>Grad</td>\n",
       "      <td>28</td>\n",
       "      <td>5</td>\n",
       "      <td>1</td>\n",
       "      <td>Short</td>\n",
       "      <td>4</td>\n",
       "      <td>High</td>\n",
       "      <td>4</td>\n",
       "      <td>High</td>\n",
       "      <td></td>\n",
       "      <td>No</td>\n",
       "      <td>No</td>\n",
       "      <td>No</td>\n",
       "      <td>No</td>\n",
       "      <td>2</td>\n",
       "      <td>Min</td>\n",
       "      <td>48</td>\n",
       "      <td>8</td>\n",
       "      <td>7</td>\n",
       "      <td>5</td>\n",
       "      <td>4</td>\n",
       "      <td>3</td>\n",
       "      <td>2</td>\n",
       "      <td>10</td>\n",
       "      <td>39</td>\n",
       "      <td>7</td>\n",
       "      <td>7</td>\n",
       "      <td>7</td>\n",
       "      <td>4</td>\n",
       "      <td>4</td>\n",
       "      <td>4</td>\n",
       "      <td>4</td>\n",
       "      <td>1</td>\n",
       "      <td>1</td>\n",
       "      <td>1</td>\n",
       "      <td>NaN</td>\n",
       "      <td>Yes</td>\n",
       "      <td>Yes</td>\n",
       "      <td>Yes</td>\n",
       "      <td>No</td>\n",
       "      <td>No</td>\n",
       "      <td>No</td>\n",
       "      <td>No</td>\n",
       "      <td>No</td>\n",
       "      <td>No</td>\n",
       "      <td>No</td>\n",
       "      <td>No</td>\n",
       "    </tr>\n",
       "    <tr>\n",
       "      <th>2</th>\n",
       "      <td>Inter</td>\n",
       "      <td>SEA</td>\n",
       "      <td>Male</td>\n",
       "      <td>Grad</td>\n",
       "      <td>25</td>\n",
       "      <td>4</td>\n",
       "      <td>6</td>\n",
       "      <td>Long</td>\n",
       "      <td>4</td>\n",
       "      <td>High</td>\n",
       "      <td>4</td>\n",
       "      <td>High</td>\n",
       "      <td>Yes</td>\n",
       "      <td>Yes</td>\n",
       "      <td>No</td>\n",
       "      <td>No</td>\n",
       "      <td>No</td>\n",
       "      <td>2</td>\n",
       "      <td>Min</td>\n",
       "      <td>41</td>\n",
       "      <td>13</td>\n",
       "      <td>4</td>\n",
       "      <td>7</td>\n",
       "      <td>6</td>\n",
       "      <td>4</td>\n",
       "      <td>3</td>\n",
       "      <td>14</td>\n",
       "      <td>51</td>\n",
       "      <td>3</td>\n",
       "      <td>3</td>\n",
       "      <td>3</td>\n",
       "      <td>1</td>\n",
       "      <td>1</td>\n",
       "      <td>2</td>\n",
       "      <td>1</td>\n",
       "      <td>1</td>\n",
       "      <td>1</td>\n",
       "      <td>1</td>\n",
       "      <td>NaN</td>\n",
       "      <td>No</td>\n",
       "      <td>No</td>\n",
       "      <td>No</td>\n",
       "      <td>No</td>\n",
       "      <td>No</td>\n",
       "      <td>No</td>\n",
       "      <td>No</td>\n",
       "      <td>No</td>\n",
       "      <td>No</td>\n",
       "      <td>No</td>\n",
       "      <td>No</td>\n",
       "    </tr>\n",
       "    <tr>\n",
       "      <th>3</th>\n",
       "      <td>Inter</td>\n",
       "      <td>EA</td>\n",
       "      <td>Female</td>\n",
       "      <td>Grad</td>\n",
       "      <td>29</td>\n",
       "      <td>5</td>\n",
       "      <td>1</td>\n",
       "      <td>Short</td>\n",
       "      <td>2</td>\n",
       "      <td>Low</td>\n",
       "      <td>3</td>\n",
       "      <td>Average</td>\n",
       "      <td>No</td>\n",
       "      <td>No</td>\n",
       "      <td>No</td>\n",
       "      <td>No</td>\n",
       "      <td>No</td>\n",
       "      <td>3</td>\n",
       "      <td>Min</td>\n",
       "      <td>37</td>\n",
       "      <td>16</td>\n",
       "      <td>10</td>\n",
       "      <td>10</td>\n",
       "      <td>8</td>\n",
       "      <td>6</td>\n",
       "      <td>4</td>\n",
       "      <td>21</td>\n",
       "      <td>75</td>\n",
       "      <td>5</td>\n",
       "      <td>5</td>\n",
       "      <td>5</td>\n",
       "      <td>5</td>\n",
       "      <td>5</td>\n",
       "      <td>2</td>\n",
       "      <td>2</td>\n",
       "      <td>2</td>\n",
       "      <td>4</td>\n",
       "      <td>4</td>\n",
       "      <td>NaN</td>\n",
       "      <td>Yes</td>\n",
       "      <td>Yes</td>\n",
       "      <td>Yes</td>\n",
       "      <td>Yes</td>\n",
       "      <td>Yes</td>\n",
       "      <td>No</td>\n",
       "      <td>No</td>\n",
       "      <td>No</td>\n",
       "      <td>No</td>\n",
       "      <td>No</td>\n",
       "      <td>No</td>\n",
       "    </tr>\n",
       "    <tr>\n",
       "      <th>4</th>\n",
       "      <td>Inter</td>\n",
       "      <td>EA</td>\n",
       "      <td>Female</td>\n",
       "      <td>Grad</td>\n",
       "      <td>28</td>\n",
       "      <td>5</td>\n",
       "      <td>1</td>\n",
       "      <td>Short</td>\n",
       "      <td>1</td>\n",
       "      <td>Low</td>\n",
       "      <td>3</td>\n",
       "      <td>Average</td>\n",
       "      <td>Yes</td>\n",
       "      <td>No</td>\n",
       "      <td>No</td>\n",
       "      <td>No</td>\n",
       "      <td>No</td>\n",
       "      <td>3</td>\n",
       "      <td>Min</td>\n",
       "      <td>37</td>\n",
       "      <td>15</td>\n",
       "      <td>12</td>\n",
       "      <td>5</td>\n",
       "      <td>8</td>\n",
       "      <td>7</td>\n",
       "      <td>4</td>\n",
       "      <td>31</td>\n",
       "      <td>82</td>\n",
       "      <td>5</td>\n",
       "      <td>5</td>\n",
       "      <td>5</td>\n",
       "      <td>2</td>\n",
       "      <td>5</td>\n",
       "      <td>2</td>\n",
       "      <td>5</td>\n",
       "      <td>5</td>\n",
       "      <td>4</td>\n",
       "      <td>4</td>\n",
       "      <td>NaN</td>\n",
       "      <td>Yes</td>\n",
       "      <td>Yes</td>\n",
       "      <td>Yes</td>\n",
       "      <td>No</td>\n",
       "      <td>Yes</td>\n",
       "      <td>No</td>\n",
       "      <td>Yes</td>\n",
       "      <td>Yes</td>\n",
       "      <td>No</td>\n",
       "      <td>No</td>\n",
       "      <td>No</td>\n",
       "    </tr>\n",
       "  </tbody>\n",
       "</table>\n",
       "</div>"
      ],
      "text/plain": [
       "  inter_dom region  gender academic  ...  religion_bi  alone_bi  others_bi internet_bi\n",
       "0     Inter    SEA    Male     Grad  ...           No        No         No          No\n",
       "1     Inter    SEA    Male     Grad  ...           No        No         No          No\n",
       "2     Inter    SEA    Male     Grad  ...           No        No         No          No\n",
       "3     Inter     EA  Female     Grad  ...           No        No         No          No\n",
       "4     Inter     EA  Female     Grad  ...          Yes        No         No          No\n",
       "\n",
       "[5 rows x 50 columns]"
      ]
     },
     "execution_count": 2,
     "metadata": {
      "application/com.datacamp.data-table.v2+json": {
       "status": "success"
      }
     },
     "output_type": "execute_result"
    }
   ],
   "source": [
    "-- preview data\n",
    "SELECT * \n",
    "FROM students\n",
    "LIMIT 5;"
   ]
  },
  {
   "cell_type": "markdown",
   "id": "7cf03733-95a7-456a-ae88-a3531a862af8",
   "metadata": {},
   "source": [
    "- Return a table with nine rows and five columns.\n",
    "- The five columns should be aliased as: `stay`, `count_int`, `average_phq`, `average_scs`, and `average_as`, in that order.\n",
    "- The average columns should contain the average of the todep (PHQ-9 test), tosc (SCS test), and toas (ASISS test) columns for each length of stay, rounded to two decimal places.\n",
    "- The count_int column should be the number of international students for each length of stay.\n",
    "- Sort the results by the length of stay in descending order."
   ]
  },
  {
   "cell_type": "code",
   "execution_count": null,
   "id": "ab01f727-3ae9-491a-bf8b-6d507e7dbf15",
   "metadata": {
    "customType": "sql",
    "dataFrameVariableName": "df",
    "executionCancelledAt": null,
    "executionTime": 1089,
    "lastExecutedAt": 1752813814849,
    "lastExecutedByKernel": "56c869ce-0c1d-438a-934b-9bed2cae4393",
    "lastScheduledRunId": null,
    "lastSuccessfullyExecutedCode": "SELECT\n  stay,\n  COUNT(*) AS count_int,\n  ROUND(AVG(todep), 2) AS average_phq,\n  ROUND(AVG(tosc), 2) AS average_scs,\n  ROUND(AVG(toas), 2) AS average_as\nFROM students\nWHERE inter_dom = 'Inter'\nGROUP BY stay\nORDER BY stay DESC\nLIMIT 9;",
    "outputsMetadata": {
     "0": {
      "height": 50,
      "tableState": {
       "customFilter": {
        "const": {
         "type": "boolean",
         "valid": true,
         "value": true
        },
        "id": "4d8fc3f7-7f39-463e-8062-49f8ad931af6",
        "nodeType": "const"
       }
      },
      "type": "dataFrame"
     }
    },
    "sqlCellMode": "dataFrame",
    "sqlSource": {
     "integrationId": "89e17161-a224-4a8a-846b-0adc0fe7a4b1",
     "integrationType": "postgresql",
     "type": "integration"
    },
    "vscode": {
     "languageId": "sql"
    }
   },
   "outputs": [
    {
     "data": {
      "application/com.datacamp.data-table.v2+json": {
       "table": {
        "data": {
         "average_as": [
          50,
          65,
          45,
          58.67,
          91,
          87.71,
          78,
          77.67,
          72.8
         ],
         "average_phq": [
          13,
          10,
          4,
          6,
          0,
          8.57,
          9.09,
          8.28,
          7.48
         ],
         "average_scs": [
          32,
          44,
          48,
          38,
          34,
          33.93,
          37.13,
          37.08,
          38.11
         ],
         "count_int": [
          1,
          1,
          1,
          3,
          1,
          14,
          46,
          39,
          95
         ],
         "index": [
          0,
          1,
          2,
          3,
          4,
          5,
          6,
          7,
          8
         ],
         "stay": [
          10,
          8,
          7,
          6,
          5,
          4,
          3,
          2,
          1
         ]
        },
        "schema": {
         "fields": [
          {
           "name": "index",
           "type": "integer"
          },
          {
           "name": "stay",
           "type": "integer"
          },
          {
           "name": "count_int",
           "type": "integer"
          },
          {
           "name": "average_phq",
           "type": "number"
          },
          {
           "name": "average_scs",
           "type": "number"
          },
          {
           "name": "average_as",
           "type": "number"
          }
         ],
         "pandas_version": "1.4.0",
         "primaryKey": [
          "index"
         ]
        }
       },
       "total_rows": 9,
       "truncation_type": null
      },
      "text/html": [
       "<div>\n",
       "<style scoped>\n",
       "    .dataframe tbody tr th:only-of-type {\n",
       "        vertical-align: middle;\n",
       "    }\n",
       "\n",
       "    .dataframe tbody tr th {\n",
       "        vertical-align: top;\n",
       "    }\n",
       "\n",
       "    .dataframe thead th {\n",
       "        text-align: right;\n",
       "    }\n",
       "</style>\n",
       "<table border=\"1\" class=\"dataframe\">\n",
       "  <thead>\n",
       "    <tr style=\"text-align: right;\">\n",
       "      <th></th>\n",
       "      <th>stay</th>\n",
       "      <th>count_int</th>\n",
       "      <th>average_phq</th>\n",
       "      <th>average_scs</th>\n",
       "      <th>average_as</th>\n",
       "    </tr>\n",
       "  </thead>\n",
       "  <tbody>\n",
       "    <tr>\n",
       "      <th>0</th>\n",
       "      <td>10</td>\n",
       "      <td>1</td>\n",
       "      <td>13.00</td>\n",
       "      <td>32.00</td>\n",
       "      <td>50.00</td>\n",
       "    </tr>\n",
       "    <tr>\n",
       "      <th>1</th>\n",
       "      <td>8</td>\n",
       "      <td>1</td>\n",
       "      <td>10.00</td>\n",
       "      <td>44.00</td>\n",
       "      <td>65.00</td>\n",
       "    </tr>\n",
       "    <tr>\n",
       "      <th>2</th>\n",
       "      <td>7</td>\n",
       "      <td>1</td>\n",
       "      <td>4.00</td>\n",
       "      <td>48.00</td>\n",
       "      <td>45.00</td>\n",
       "    </tr>\n",
       "    <tr>\n",
       "      <th>3</th>\n",
       "      <td>6</td>\n",
       "      <td>3</td>\n",
       "      <td>6.00</td>\n",
       "      <td>38.00</td>\n",
       "      <td>58.67</td>\n",
       "    </tr>\n",
       "    <tr>\n",
       "      <th>4</th>\n",
       "      <td>5</td>\n",
       "      <td>1</td>\n",
       "      <td>0.00</td>\n",
       "      <td>34.00</td>\n",
       "      <td>91.00</td>\n",
       "    </tr>\n",
       "    <tr>\n",
       "      <th>5</th>\n",
       "      <td>4</td>\n",
       "      <td>14</td>\n",
       "      <td>8.57</td>\n",
       "      <td>33.93</td>\n",
       "      <td>87.71</td>\n",
       "    </tr>\n",
       "    <tr>\n",
       "      <th>6</th>\n",
       "      <td>3</td>\n",
       "      <td>46</td>\n",
       "      <td>9.09</td>\n",
       "      <td>37.13</td>\n",
       "      <td>78.00</td>\n",
       "    </tr>\n",
       "    <tr>\n",
       "      <th>7</th>\n",
       "      <td>2</td>\n",
       "      <td>39</td>\n",
       "      <td>8.28</td>\n",
       "      <td>37.08</td>\n",
       "      <td>77.67</td>\n",
       "    </tr>\n",
       "    <tr>\n",
       "      <th>8</th>\n",
       "      <td>1</td>\n",
       "      <td>95</td>\n",
       "      <td>7.48</td>\n",
       "      <td>38.11</td>\n",
       "      <td>72.80</td>\n",
       "    </tr>\n",
       "  </tbody>\n",
       "</table>\n",
       "</div>"
      ],
      "text/plain": [
       "   stay  count_int  average_phq  average_scs  average_as\n",
       "0    10          1        13.00        32.00       50.00\n",
       "1     8          1        10.00        44.00       65.00\n",
       "2     7          1         4.00        48.00       45.00\n",
       "3     6          3         6.00        38.00       58.67\n",
       "4     5          1         0.00        34.00       91.00\n",
       "5     4         14         8.57        33.93       87.71\n",
       "6     3         46         9.09        37.13       78.00\n",
       "7     2         39         8.28        37.08       77.67\n",
       "8     1         95         7.48        38.11       72.80"
      ]
     },
     "execution_count": 7,
     "metadata": {
      "application/com.datacamp.data-table.v2+json": {
       "status": "success"
      }
     },
     "output_type": "execute_result"
    }
   ],
   "source": [
    "SELECT\n",
    "  stay,\n",
    "  COUNT(*) AS count_int,\n",
    "  ROUND(AVG(todep), 2) AS average_phq,\n",
    "  ROUND(AVG(tosc), 2) AS average_scs,\n",
    "  ROUND(AVG(toas), 2) AS average_as\n",
    "FROM students\n",
    "WHERE inter_dom = 'Inter'\n",
    "GROUP BY stay\n",
    "ORDER BY stay DESC\n",
    "LIMIT 9;"
   ]
  }
 ],
 "metadata": {
  "colab": {
   "name": "Welcome to DataCamp Workspaces.ipynb",
   "provenance": []
  },
  "kernelspec": {
   "display_name": "Python 3 (ipykernel)",
   "language": "python",
   "name": "python3"
  },
  "language_info": {
   "codemirror_mode": {
    "name": "ipython",
    "version": 3
   },
   "file_extension": ".py",
   "mimetype": "text/x-python",
   "name": "python",
   "nbconvert_exporter": "python",
   "pygments_lexer": "ipython3",
   "version": "3.8.10"
  }
 },
 "nbformat": 4,
 "nbformat_minor": 5
}
